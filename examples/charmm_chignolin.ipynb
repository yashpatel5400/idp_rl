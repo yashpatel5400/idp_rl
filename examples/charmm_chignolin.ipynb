{
 "cells": [
  {
   "cell_type": "code",
   "execution_count": 4,
   "id": "3ffa6b98-ebab-4e34-b363-7e7c58d2b641",
   "metadata": {},
   "outputs": [
    {
     "ename": "OpenMMException",
     "evalue": "NonbondedForce: The cutoff distance cannot be greater than half the periodic box size.",
     "output_type": "error",
     "traceback": [
      "\u001b[0;31m---------------------------------------------------------------------------\u001b[0m",
      "\u001b[0;31mOpenMMException\u001b[0m                           Traceback (most recent call last)",
      "Input \u001b[0;32mIn [4]\u001b[0m, in \u001b[0;36m<cell line: 11>\u001b[0;34m()\u001b[0m\n\u001b[1;32m      8\u001b[0m system \u001b[38;5;241m=\u001b[39m forcefield\u001b[38;5;241m.\u001b[39mcreateSystem(pdb\u001b[38;5;241m.\u001b[39mtopology, nonbondedMethod\u001b[38;5;241m=\u001b[39mPME,\n\u001b[1;32m      9\u001b[0m         nonbondedCutoff\u001b[38;5;241m=\u001b[39m\u001b[38;5;241m1\u001b[39m\u001b[38;5;241m*\u001b[39mnanometer, constraints\u001b[38;5;241m=\u001b[39mHBonds)\n\u001b[1;32m     10\u001b[0m integrator \u001b[38;5;241m=\u001b[39m LangevinMiddleIntegrator(\u001b[38;5;241m300\u001b[39m\u001b[38;5;241m*\u001b[39mkelvin, \u001b[38;5;241m1\u001b[39m\u001b[38;5;241m/\u001b[39mpicosecond, \u001b[38;5;241m0.004\u001b[39m\u001b[38;5;241m*\u001b[39mpicoseconds)\n\u001b[0;32m---> 11\u001b[0m simulation \u001b[38;5;241m=\u001b[39m \u001b[43mSimulation\u001b[49m\u001b[43m(\u001b[49m\u001b[43mpdb\u001b[49m\u001b[38;5;241;43m.\u001b[39;49m\u001b[43mtopology\u001b[49m\u001b[43m,\u001b[49m\u001b[43m \u001b[49m\u001b[43msystem\u001b[49m\u001b[43m,\u001b[49m\u001b[43m \u001b[49m\u001b[43mintegrator\u001b[49m\u001b[43m)\u001b[49m\n\u001b[1;32m     12\u001b[0m simulation\u001b[38;5;241m.\u001b[39mcontext\u001b[38;5;241m.\u001b[39msetPositions(pdb\u001b[38;5;241m.\u001b[39mpositions)\n\u001b[1;32m     13\u001b[0m simulation\u001b[38;5;241m.\u001b[39mminimizeEnergy()\n",
      "File \u001b[0;32m/opt/homebrew/Caskroom/miniforge/base/envs/bliss/lib/python3.8/site-packages/openmm/app/simulation.py:99\u001b[0m, in \u001b[0;36mSimulation.__init__\u001b[0;34m(self, topology, system, integrator, platform, platformProperties, state)\u001b[0m\n\u001b[1;32m     96\u001b[0m \u001b[38;5;28mself\u001b[39m\u001b[38;5;241m.\u001b[39mreporters \u001b[38;5;241m=\u001b[39m []\n\u001b[1;32m     97\u001b[0m \u001b[38;5;28;01mif\u001b[39;00m platform \u001b[38;5;129;01mis\u001b[39;00m \u001b[38;5;28;01mNone\u001b[39;00m:\n\u001b[1;32m     98\u001b[0m     \u001b[38;5;66;03m## The Context containing the current state of the simulation\u001b[39;00m\n\u001b[0;32m---> 99\u001b[0m     \u001b[38;5;28mself\u001b[39m\u001b[38;5;241m.\u001b[39mcontext \u001b[38;5;241m=\u001b[39m \u001b[43mmm\u001b[49m\u001b[38;5;241;43m.\u001b[39;49m\u001b[43mContext\u001b[49m\u001b[43m(\u001b[49m\u001b[38;5;28;43mself\u001b[39;49m\u001b[38;5;241;43m.\u001b[39;49m\u001b[43msystem\u001b[49m\u001b[43m,\u001b[49m\u001b[43m \u001b[49m\u001b[38;5;28;43mself\u001b[39;49m\u001b[38;5;241;43m.\u001b[39;49m\u001b[43mintegrator\u001b[49m\u001b[43m)\u001b[49m\n\u001b[1;32m    100\u001b[0m \u001b[38;5;28;01melif\u001b[39;00m platformProperties \u001b[38;5;129;01mis\u001b[39;00m \u001b[38;5;28;01mNone\u001b[39;00m:\n\u001b[1;32m    101\u001b[0m     \u001b[38;5;28mself\u001b[39m\u001b[38;5;241m.\u001b[39mcontext \u001b[38;5;241m=\u001b[39m mm\u001b[38;5;241m.\u001b[39mContext(\u001b[38;5;28mself\u001b[39m\u001b[38;5;241m.\u001b[39msystem, \u001b[38;5;28mself\u001b[39m\u001b[38;5;241m.\u001b[39mintegrator, platform)\n",
      "File \u001b[0;32m/opt/homebrew/Caskroom/miniforge/base/envs/bliss/lib/python3.8/site-packages/openmm/openmm.py:2501\u001b[0m, in \u001b[0;36mContext.__init__\u001b[0;34m(self, *args)\u001b[0m\n\u001b[1;32m   2482\u001b[0m \u001b[38;5;28;01mdef\u001b[39;00m \u001b[38;5;21m__init__\u001b[39m(\u001b[38;5;28mself\u001b[39m, \u001b[38;5;241m*\u001b[39margs):\n\u001b[1;32m   2483\u001b[0m     \u001b[38;5;124mr\u001b[39m\u001b[38;5;124;03m\"\"\"\u001b[39;00m\n\u001b[1;32m   2484\u001b[0m \u001b[38;5;124;03m    __init__(self, system, integrator) -> Context\u001b[39;00m\n\u001b[1;32m   2485\u001b[0m \u001b[38;5;124;03m    __init__(self, system, integrator, platform) -> Context\u001b[39;00m\n\u001b[0;32m   (...)\u001b[0m\n\u001b[1;32m   2499\u001b[0m \u001b[38;5;124;03m        a set of values for platform-specific properties. Keys are the property names.\u001b[39;00m\n\u001b[1;32m   2500\u001b[0m \u001b[38;5;124;03m    \"\"\"\u001b[39;00m\n\u001b[0;32m-> 2501\u001b[0m     _openmm\u001b[38;5;241m.\u001b[39mContext_swiginit(\u001b[38;5;28mself\u001b[39m, \u001b[43m_openmm\u001b[49m\u001b[38;5;241;43m.\u001b[39;49m\u001b[43mnew_Context\u001b[49m\u001b[43m(\u001b[49m\u001b[38;5;241;43m*\u001b[39;49m\u001b[43margs\u001b[49m\u001b[43m)\u001b[49m)\n\u001b[1;32m   2503\u001b[0m     \u001b[38;5;28mself\u001b[39m\u001b[38;5;241m.\u001b[39m_system \u001b[38;5;241m=\u001b[39m args[\u001b[38;5;241m0\u001b[39m]\n\u001b[1;32m   2504\u001b[0m     \u001b[38;5;28mself\u001b[39m\u001b[38;5;241m.\u001b[39m_integrator \u001b[38;5;241m=\u001b[39m args[\u001b[38;5;241m1\u001b[39m]\n",
      "\u001b[0;31mOpenMMException\u001b[0m: NonbondedForce: The cutoff distance cannot be greater than half the periodic box size."
     ]
    }
   ],
   "source": [
    "from openmm.app import *\n",
    "from openmm import *\n",
    "from openmm.unit import *\n",
    "from sys import stdout\n",
    "\n",
    "pdb = PDBFile('1uao.pdb')\n",
    "forcefield = ForceField('amber14-all.xml', 'amber14/tip3pfb.xml')\n",
    "system = forcefield.createSystem(pdb.topology, nonbondedMethod=PME,\n",
    "        nonbondedCutoff=1*nanometer, constraints=HBonds)\n",
    "integrator = LangevinMiddleIntegrator(300*kelvin, 1/picosecond, 0.004*picoseconds)\n",
    "simulation = Simulation(pdb.topology, system, integrator)\n",
    "simulation.context.setPositions(pdb.positions)\n",
    "simulation.minimizeEnergy()\n",
    "simulation.reporters.append(PDBReporter('output.pdb', 1000))\n",
    "simulation.reporters.append(StateDataReporter(stdout, 1000, step=True,\n",
    "        potentialEnergy=True, temperature=True))\n",
    "simulation.step(10000)"
   ]
  },
  {
   "cell_type": "code",
   "execution_count": 8,
   "id": "96f56fd7-1f10-420f-9477-a3c57a283278",
   "metadata": {},
   "outputs": [
    {
     "data": {
      "text/plain": [
       "openmm.app.pdbfile.PDBFile"
      ]
     },
     "execution_count": 8,
     "metadata": {},
     "output_type": "execute_result"
    }
   ],
   "source": [
    "type(pdb)"
   ]
  },
  {
   "cell_type": "code",
   "execution_count": null,
   "id": "25bdc79a-c9d1-4d9f-adcb-dd3f5fc1cac8",
   "metadata": {},
   "outputs": [],
   "source": []
  }
 ],
 "metadata": {
  "kernelspec": {
   "display_name": "Python 3 (ipykernel)",
   "language": "python",
   "name": "python3"
  },
  "language_info": {
   "codemirror_mode": {
    "name": "ipython",
    "version": 3
   },
   "file_extension": ".py",
   "mimetype": "text/x-python",
   "name": "python",
   "nbconvert_exporter": "python",
   "pygments_lexer": "ipython3",
   "version": "3.8.13"
  }
 },
 "nbformat": 4,
 "nbformat_minor": 5
}
