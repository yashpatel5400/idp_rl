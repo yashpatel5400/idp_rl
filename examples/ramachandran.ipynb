{
 "cells": [
  {
   "cell_type": "code",
   "execution_count": 2,
   "metadata": {},
   "outputs": [],
   "source": [
    "import sys\n",
    "sys.path.append(\"..\")\n",
    "\n",
    "import numpy as np\n",
    "import matplotlib.pyplot as plt\n",
    "import rdkit.Chem.AllChem as Chem\n",
    "from rdkit.Chem import TorsionFingerprints\n",
    "from rdkit.Chem import rdMolTransforms\n",
    "\n",
    "import seaborn as sns\n",
    "sns.set_theme(style=\"darkgrid\")\n",
    "\n",
    "from idp_rl.environments.environment_components.forcefield_mixins import CharMMMixin, MMFFMixin\n",
    "import idp_rl.molecule_generation.generate_chignolin"
   ]
  },
  {
   "cell_type": "code",
   "execution_count": 1,
   "metadata": {},
   "outputs": [
    {
     "name": "stderr",
     "output_type": "stream",
     "text": [
      "/home/yppatel/anaconda3/envs/idp/lib/python3.8/site-packages/tqdm/auto.py:22: TqdmWarning: IProgress not found. Please update jupyter and ipywidgets. See https://ipywidgets.readthedocs.io/en/stable/user_install.html\n",
      "  from .autonotebook import tqdm as notebook_tqdm\n",
      "[20:01:12] Molecule does not have explicit Hs. Consider calling AddHs()\n"
     ]
    },
    {
     "data": {
      "text/plain": [
       "0"
      ]
     },
     "execution_count": 1,
     "metadata": {},
     "output_type": "execute_result"
    }
   ],
   "source": [
    "num_confs = 200\n",
    "\n",
    "chignolin = idp_rl.molecule_generation.generate_chignolin.generate_chignolin(\"GYDPETGTWG\")\n",
    "chignolin.RemoveAllConformers()\n",
    "Chem.EmbedMultipleConfs(chignolin, numConfs=num_confs)\n",
    "Chem.MMFFSanitizeMolecule(chignolin)"
   ]
  },
  {
   "cell_type": "code",
   "execution_count": 3,
   "metadata": {},
   "outputs": [],
   "source": [
    "def get_gly7_dihedrals(version_mol):\n",
    "    nonring, ring = TorsionFingerprints.CalculateTorsionLists(version_mol)\n",
    "    torsions = [nr[0] for nr in nonring]\n",
    "\n",
    "    full_dihedrals = []\n",
    "    for conf_id in range(version_mol.GetNumConformers()):\n",
    "        conf = version_mol.GetConformer(conf_id)\n",
    "        phi = rdMolTransforms.GetDihedralDeg(conf, *torsions[24][0])\n",
    "        psi = rdMolTransforms.GetDihedralDeg(conf, *torsions[25][0])\n",
    "        full_dihedrals.append([phi, psi])\n",
    "    full_dihedrals = np.array(full_dihedrals)\n",
    "\n",
    "    return full_dihedrals"
   ]
  },
  {
   "cell_type": "code",
   "execution_count": 4,
   "metadata": {},
   "outputs": [
    {
     "data": {
      "text/plain": [
       "<matplotlib.collections.PathCollection at 0x7f0bec135250>"
      ]
     },
     "execution_count": 4,
     "metadata": {},
     "output_type": "execute_result"
    },
    {
     "data": {
      "image/png": "[encoded data removed]",
      "text/plain": [
       "<Figure size 432x288 with 1 Axes>"
      ]
     },
     "metadata": {},
     "output_type": "display_data"
    }
   ],
   "source": [
    "full_dihedrals_nonopt = get_gly7_dihedrals(chignolin)\n",
    "plt.scatter(full_dihedrals_nonopt[:,0], full_dihedrals_nonopt[:,1])"
   ]
  },
  {
   "cell_type": "code",
   "execution_count": 5,
   "metadata": {},
   "outputs": [
    {
     "name": "stderr",
     "output_type": "stream",
     "text": [
      "[20:09:02] Molecule does not have explicit Hs. Consider calling AddHs()\n"
     ]
    },
    {
     "data": {
      "text/plain": [
       "[(0, 113.87947538186619),\n",
       " (0, 147.48801189959556),\n",
       " (0, 151.02123731914912),\n",
       " (1, 142.88172666520427),\n",
       " (1, 134.66009205838643),\n",
       " (0, 166.81248755930488),\n",
       " (0, 138.87874983679794),\n",
       " (1, 125.83429289336803),\n",
       " (1, 107.64972176987422),\n",
       " (0, 131.02777761293657),\n",
       " (1, 128.2927307671311),\n",
       " (1, 170.88626633341826),\n",
       " (1, 123.16332073466319),\n",
       " (0, 159.4144038717955),\n",
       " (1, 130.393072078601),\n",
       " (0, 134.50924659653796),\n",
       " (1, 156.20973562213365),\n",
       " (0, 153.31083600900487),\n",
       " (1, 124.69760008300803),\n",
       " (0, 147.34437358007222),\n",
       " (0, 145.95941981529214),\n",
       " (0, 129.43061674480805),\n",
       " (0, 152.82075594886564),\n",
       " (1, 147.129040030792),\n",
       " (1, 135.38528842317206),\n",
       " (0, 157.5174770546051),\n",
       " (0, 151.73312614628847),\n",
       " (0, 153.01480687532788),\n",
       " (0, 141.58906025905958),\n",
       " (0, 155.92930055595434),\n",
       " (0, 170.68508763798366),\n",
       " (1, 146.57137259302695),\n",
       " (0, 141.807414301893),\n",
       " (1, 145.0465492302218),\n",
       " (1, 152.4519684336469),\n",
       " (1, 144.88979112997222),\n",
       " (0, 160.8536930860187),\n",
       " (1, 144.78427583225246),\n",
       " (0, 159.6352121459714),\n",
       " (1, 144.65965340682763),\n",
       " (0, 131.1604831003253),\n",
       " (0, 155.4253630489682),\n",
       " (0, 187.20516389936392),\n",
       " (0, 139.47423811290236),\n",
       " (0, 150.0988839754327),\n",
       " (1, 140.49935747156061),\n",
       " (1, 141.13471024071757),\n",
       " (1, 140.90105637514804),\n",
       " (0, 148.7146534376982),\n",
       " (0, 148.43149099190794),\n",
       " (0, 152.61060488412645),\n",
       " (0, 133.51656187118226),\n",
       " (1, 155.9313793818487),\n",
       " (1, 138.5267602086513),\n",
       " (0, 177.27839205042775),\n",
       " (1, 137.08189479184443),\n",
       " (0, 149.48494001182516),\n",
       " (1, 134.97190243189368),\n",
       " (1, 130.36144959218515),\n",
       " (0, 170.89925667090048),\n",
       " (0, 131.14145495722354),\n",
       " (1, 136.56235768844405),\n",
       " (1, 151.41556893466725),\n",
       " (0, 154.13788463317425),\n",
       " (0, 154.74741512640668),\n",
       " (0, 145.25735784261303),\n",
       " (0, 185.42090956113842),\n",
       " (0, 161.4080860819288),\n",
       " (0, 179.18778228793386),\n",
       " (0, 167.3236753552058),\n",
       " (0, 131.90043777856067),\n",
       " (0, 141.2499177660511),\n",
       " (1, 126.25385328129747),\n",
       " (0, 144.6862027693314),\n",
       " (1, 123.5907236348749),\n",
       " (0, 136.69265822168128),\n",
       " (1, 133.46395508727124),\n",
       " (0, 135.85839535084867),\n",
       " (1, 134.98108437966863),\n",
       " (0, 141.47269429377636),\n",
       " (0, 140.6359601520668),\n",
       " (0, 155.66863449965703),\n",
       " (0, 123.4773984639135),\n",
       " (0, 156.8469048880576),\n",
       " (0, 147.95672879875772),\n",
       " (1, 146.66190329309308),\n",
       " (0, 139.41701086387155),\n",
       " (0, 117.16758273948204),\n",
       " (0, 166.55422203076134),\n",
       " (0, 139.03770755315622),\n",
       " (0, 134.07234408717173),\n",
       " (0, 135.95306953327926),\n",
       " (0, 145.6120532225041),\n",
       " (0, 152.19443796493672),\n",
       " (0, 174.6316244292372),\n",
       " (0, 153.6435448118992),\n",
       " (0, 157.87558833803757),\n",
       " (0, 149.9736269841659),\n",
       " (1, 125.83776286437438),\n",
       " (0, 153.62425074481857),\n",
       " (1, 121.015795595752),\n",
       " (1, 153.11231330693937),\n",
       " (0, 145.81548355574824),\n",
       " (0, 148.02307796261954),\n",
       " (0, 171.87093897140096),\n",
       " (0, 152.67734678734732),\n",
       " (0, 137.6354977726983),\n",
       " (0, 130.22047800655628),\n",
       " (0, 151.0387469792791),\n",
       " (1, 137.1045417705851),\n",
       " (0, 154.75169521916132),\n",
       " (1, 164.32050247299424),\n",
       " (0, 120.00139339324461),\n",
       " (1, 131.13554428882523),\n",
       " (0, 186.3962429393117),\n",
       " (0, 170.0944278158217),\n",
       " (0, 145.2339286038302),\n",
       " (0, 146.12309854049707),\n",
       " (0, 154.87793828669732),\n",
       " (1, 150.11882285149792),\n",
       " (0, 123.29960859186852),\n",
       " (1, 116.72091999847207),\n",
       " (1, 145.6110868744372),\n",
       " (0, 155.2668906232973),\n",
       " (0, 127.84124586140402),\n",
       " (0, 150.7178076220559),\n",
       " (0, 129.93547532580538),\n",
       " (0, 151.47166986775025),\n",
       " (0, 148.11773558100666),\n",
       " (1, 123.94440970966329),\n",
       " (1, 127.63210424281647),\n",
       " (0, 120.41240655583057),\n",
       " (0, 152.43382217049646),\n",
       " (1, 118.61918980668939),\n",
       " (0, 148.25310542208663),\n",
       " (0, 158.65758263590342),\n",
       " (0, 144.87067559442843),\n",
       " (0, 143.43913635421393),\n",
       " (1, 143.93072110011312),\n",
       " (0, 153.96976932059724),\n",
       " (1, 153.1360476562675),\n",
       " (0, 118.32151033256467),\n",
       " (0, 137.64532002543348),\n",
       " (0, 151.39485299949533),\n",
       " (0, 145.60340682277103),\n",
       " (1, 156.9665281394577),\n",
       " (0, 160.67656191100247),\n",
       " (0, 145.99633829930832),\n",
       " (0, 140.16836477630704),\n",
       " (1, 125.13175739224808),\n",
       " (0, 135.11928992367126),\n",
       " (1, 132.32718439290437),\n",
       " (0, 136.6504567021487),\n",
       " (1, 147.1648575839963),\n",
       " (0, 151.66482644901828),\n",
       " (1, 157.51625274123506),\n",
       " (0, 136.75410015929964),\n",
       " (0, 139.36984435319133),\n",
       " (0, 151.49202969888853),\n",
       " (0, 117.88032007821052),\n",
       " (0, 149.0393703565213),\n",
       " (0, 145.89079944116372),\n",
       " (0, 153.88579281945408),\n",
       " (0, 171.13755996038424),\n",
       " (1, 145.97926057355167),\n",
       " (1, 139.83053617350967),\n",
       " (1, 107.80069241942405),\n",
       " (0, 139.53407186776462),\n",
       " (0, 156.4996270048908),\n",
       " (1, 132.02556335068084),\n",
       " (1, 121.53143487404658),\n",
       " (0, 137.5685570720597),\n",
       " (0, 151.9282839264152),\n",
       " (1, 174.1308889679856),\n",
       " (0, 143.876617020862),\n",
       " (1, 155.44679074937596),\n",
       " (0, 167.28439380362923),\n",
       " (0, 151.48119739639841),\n",
       " (0, 158.93572831882898),\n",
       " (0, 165.04175577765406),\n",
       " (0, 140.02404219188637),\n",
       " (0, 148.36256963007935),\n",
       " (0, 140.7881487008732),\n",
       " (1, 137.9409735489206),\n",
       " (1, 120.97001618652301),\n",
       " (0, 149.22829539545643),\n",
       " (1, 122.38690147976354),\n",
       " (0, 158.68413494230816),\n",
       " (1, 146.60414802578228),\n",
       " (0, 153.2345327729993),\n",
       " (0, 161.3333116037209),\n",
       " (0, 145.40338603272895),\n",
       " (0, 125.33655350405957),\n",
       " (0, 155.1944208480913),\n",
       " (0, 136.333282781621),\n",
       " (1, 132.72669693307125),\n",
       " (1, 141.30855234973927),\n",
       " (1, 144.85490180020736),\n",
       " (1, 136.97355537844226),\n",
       " (0, 149.5928330276972)]"
      ]
     },
     "execution_count": 5,
     "metadata": {},
     "output_type": "execute_result"
    }
   ],
   "source": [
    "Chem.MMFFOptimizeMoleculeConfs(chignolin, maxIters=1000)"
   ]
  },
  {
   "cell_type": "code",
   "execution_count": 9,
   "metadata": {},
   "outputs": [
    {
     "data": {
      "text/plain": [
       "<matplotlib.collections.PathCollection at 0x7f0be870d280>"
      ]
     },
     "execution_count": 9,
     "metadata": {},
     "output_type": "execute_result"
    },
    {
     "data": {
      "image/png": "[encoded data removed]",
      "text/plain": [
       "<Figure size 432x288 with 1 Axes>"
      ]
     },
     "metadata": {},
     "output_type": "display_data"
    }
   ],
   "source": [
    "full_dihedrals_opt = get_gly7_dihedrals(chignolin)\n",
    "plt.scatter(full_dihedrals_opt[:,0], full_dihedrals_opt[:,1])"
   ]
  },
  {
   "cell_type": "code",
   "execution_count": 7,
   "metadata": {},
   "outputs": [],
   "source": [
    "from sklearn.cluster import KMeans\n",
    "kmeans = KMeans(n_clusters= 10)\n",
    "label = kmeans.fit_predict(full_dihedrals_opt)"
   ]
  },
  {
   "cell_type": "code",
   "execution_count": 11,
   "metadata": {},
   "outputs": [
    {
     "data": {
      "text/plain": [
       "(-180.0, 180.0)"
      ]
     },
     "execution_count": 11,
     "metadata": {},
     "output_type": "execute_result"
    },
    {
     "data": {
      "image/png": "[encoded data removed]",
      "text/plain": [
       "<Figure size 1152x720 with 1 Axes>"
      ]
     },
     "metadata": {},
     "output_type": "display_data"
    }
   ],
   "source": [
    "plt.figure(figsize=(16,10))\n",
    "\n",
    "for label_idx in range(10):\n",
    "    sns.scatterplot(\n",
    "        x=full_dihedrals_opt[label == label_idx,0], \n",
    "        y=full_dihedrals_opt[label == label_idx,1],\n",
    "        palette=sns.color_palette(\"hls\", 10),\n",
    "        legend=\"full\",\n",
    "        label=f\"cluster {label_idx}\",\n",
    "        alpha=0.3\n",
    "    )\n",
    "plt.legend()\n",
    "\n",
    "plt.xlim(-180, 180)\n",
    "plt.ylim(-180, 180)"
   ]
  },
  {
   "cell_type": "code",
   "execution_count": null,
   "metadata": {},
   "outputs": [],
   "source": []
  }
 ],
 "metadata": {
  "kernelspec": {
   "display_name": "Python 3.8.13 ('idp')",
   "language": "python",
   "name": "python3"
  },
  "language_info": {
   "codemirror_mode": {
    "name": "ipython",
    "version": 3
   },
   "file_extension": ".py",
   "mimetype": "text/x-python",
   "name": "python",
   "nbconvert_exporter": "python",
   "pygments_lexer": "ipython3",
   "version": "3.8.13"
  },
  "orig_nbformat": 4,
  "vscode": {
   "interpreter": {
    "hash": "3d81160e9aa53a8bbd3d911368bef77b7cf8f8a96ffdcbfc0a98fcc7b899910d"
   }
  }
 },
 "nbformat": 4,
 "nbformat_minor": 2
}
