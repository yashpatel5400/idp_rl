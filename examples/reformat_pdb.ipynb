{
 "cells": [
  {
   "cell_type": "code",
   "execution_count": 1,
   "id": "403a5597-c34c-4b7f-bda7-4a986ef89a67",
   "metadata": {},
   "outputs": [],
   "source": [
    "from rdkit.Chem import AllChem as Chem\n",
    "from rdkit.Chem import TorsionFingerprints\n",
    "import pandas as pd"
   ]
  },
  {
   "cell_type": "code",
   "execution_count": 2,
   "id": "2326d350-8e59-4a12-a564-d0a7d3909b17",
   "metadata": {
    "tags": []
   },
   "outputs": [
    {
     "ename": "ParserError",
     "evalue": "Error tokenizing data. C error: Expected 10 fields in line 2, saw 13\n",
     "output_type": "error",
     "traceback": [
      "\u001b[0;31m---------------------------------------------------------------------------\u001b[0m",
      "\u001b[0;31mParserError\u001b[0m                               Traceback (most recent call last)",
      "Input \u001b[0;32mIn [2]\u001b[0m, in \u001b[0;36m<cell line: 1>\u001b[0;34m()\u001b[0m\n\u001b[0;32m----> 1\u001b[0m mol_pdb \u001b[38;5;241m=\u001b[39m \u001b[43mpd\u001b[49m\u001b[38;5;241;43m.\u001b[39;49m\u001b[43mread_csv\u001b[49m\u001b[43m(\u001b[49m\u001b[38;5;124;43m\"\u001b[39;49m\u001b[38;5;124;43mchignolin/1uao.pdb\u001b[39;49m\u001b[38;5;124;43m\"\u001b[39;49m\u001b[43m,\u001b[49m\u001b[43m \u001b[49m\u001b[43mheader\u001b[49m\u001b[38;5;241;43m=\u001b[39;49m\u001b[38;5;28;43;01mNone\u001b[39;49;00m\u001b[43m,\u001b[49m\u001b[43m \u001b[49m\u001b[43mdelim_whitespace\u001b[49m\u001b[38;5;241;43m=\u001b[39;49m\u001b[38;5;28;43;01mTrue\u001b[39;49;00m\u001b[43m)\u001b[49m\n\u001b[1;32m      3\u001b[0m hydrogen_idxs \u001b[38;5;241m=\u001b[39m \u001b[38;5;28mset\u001b[39m(mol_pdb\u001b[38;5;241m.\u001b[39mloc[mol_pdb[\u001b[38;5;241m2\u001b[39m]\u001b[38;5;241m.\u001b[39mstr\u001b[38;5;241m.\u001b[39mstartswith(\u001b[38;5;124m\"\u001b[39m\u001b[38;5;124mH\u001b[39m\u001b[38;5;124m\"\u001b[39m)]\u001b[38;5;241m.\u001b[39mindex\u001b[38;5;241m.\u001b[39mtolist())\n\u001b[1;32m      4\u001b[0m indices \u001b[38;5;241m=\u001b[39m mol_pdb\u001b[38;5;241m.\u001b[39mindex\u001b[38;5;241m.\u001b[39mtolist()\n",
      "File \u001b[0;32m/opt/homebrew/Caskroom/miniforge/base/envs/bliss/lib/python3.8/site-packages/pandas/util/_decorators.py:311\u001b[0m, in \u001b[0;36mdeprecate_nonkeyword_arguments.<locals>.decorate.<locals>.wrapper\u001b[0;34m(*args, **kwargs)\u001b[0m\n\u001b[1;32m    305\u001b[0m \u001b[38;5;28;01mif\u001b[39;00m \u001b[38;5;28mlen\u001b[39m(args) \u001b[38;5;241m>\u001b[39m num_allow_args:\n\u001b[1;32m    306\u001b[0m     warnings\u001b[38;5;241m.\u001b[39mwarn(\n\u001b[1;32m    307\u001b[0m         msg\u001b[38;5;241m.\u001b[39mformat(arguments\u001b[38;5;241m=\u001b[39marguments),\n\u001b[1;32m    308\u001b[0m         \u001b[38;5;167;01mFutureWarning\u001b[39;00m,\n\u001b[1;32m    309\u001b[0m         stacklevel\u001b[38;5;241m=\u001b[39mstacklevel,\n\u001b[1;32m    310\u001b[0m     )\n\u001b[0;32m--> 311\u001b[0m \u001b[38;5;28;01mreturn\u001b[39;00m \u001b[43mfunc\u001b[49m\u001b[43m(\u001b[49m\u001b[38;5;241;43m*\u001b[39;49m\u001b[43margs\u001b[49m\u001b[43m,\u001b[49m\u001b[43m \u001b[49m\u001b[38;5;241;43m*\u001b[39;49m\u001b[38;5;241;43m*\u001b[39;49m\u001b[43mkwargs\u001b[49m\u001b[43m)\u001b[49m\n",
      "File \u001b[0;32m/opt/homebrew/Caskroom/miniforge/base/envs/bliss/lib/python3.8/site-packages/pandas/io/parsers/readers.py:680\u001b[0m, in \u001b[0;36mread_csv\u001b[0;34m(filepath_or_buffer, sep, delimiter, header, names, index_col, usecols, squeeze, prefix, mangle_dupe_cols, dtype, engine, converters, true_values, false_values, skipinitialspace, skiprows, skipfooter, nrows, na_values, keep_default_na, na_filter, verbose, skip_blank_lines, parse_dates, infer_datetime_format, keep_date_col, date_parser, dayfirst, cache_dates, iterator, chunksize, compression, thousands, decimal, lineterminator, quotechar, quoting, doublequote, escapechar, comment, encoding, encoding_errors, dialect, error_bad_lines, warn_bad_lines, on_bad_lines, delim_whitespace, low_memory, memory_map, float_precision, storage_options)\u001b[0m\n\u001b[1;32m    665\u001b[0m kwds_defaults \u001b[38;5;241m=\u001b[39m _refine_defaults_read(\n\u001b[1;32m    666\u001b[0m     dialect,\n\u001b[1;32m    667\u001b[0m     delimiter,\n\u001b[0;32m   (...)\u001b[0m\n\u001b[1;32m    676\u001b[0m     defaults\u001b[38;5;241m=\u001b[39m{\u001b[38;5;124m\"\u001b[39m\u001b[38;5;124mdelimiter\u001b[39m\u001b[38;5;124m\"\u001b[39m: \u001b[38;5;124m\"\u001b[39m\u001b[38;5;124m,\u001b[39m\u001b[38;5;124m\"\u001b[39m},\n\u001b[1;32m    677\u001b[0m )\n\u001b[1;32m    678\u001b[0m kwds\u001b[38;5;241m.\u001b[39mupdate(kwds_defaults)\n\u001b[0;32m--> 680\u001b[0m \u001b[38;5;28;01mreturn\u001b[39;00m \u001b[43m_read\u001b[49m\u001b[43m(\u001b[49m\u001b[43mfilepath_or_buffer\u001b[49m\u001b[43m,\u001b[49m\u001b[43m \u001b[49m\u001b[43mkwds\u001b[49m\u001b[43m)\u001b[49m\n",
      "File \u001b[0;32m/opt/homebrew/Caskroom/miniforge/base/envs/bliss/lib/python3.8/site-packages/pandas/io/parsers/readers.py:581\u001b[0m, in \u001b[0;36m_read\u001b[0;34m(filepath_or_buffer, kwds)\u001b[0m\n\u001b[1;32m    578\u001b[0m     \u001b[38;5;28;01mreturn\u001b[39;00m parser\n\u001b[1;32m    580\u001b[0m \u001b[38;5;28;01mwith\u001b[39;00m parser:\n\u001b[0;32m--> 581\u001b[0m     \u001b[38;5;28;01mreturn\u001b[39;00m \u001b[43mparser\u001b[49m\u001b[38;5;241;43m.\u001b[39;49m\u001b[43mread\u001b[49m\u001b[43m(\u001b[49m\u001b[43mnrows\u001b[49m\u001b[43m)\u001b[49m\n",
      "File \u001b[0;32m/opt/homebrew/Caskroom/miniforge/base/envs/bliss/lib/python3.8/site-packages/pandas/io/parsers/readers.py:1254\u001b[0m, in \u001b[0;36mTextFileReader.read\u001b[0;34m(self, nrows)\u001b[0m\n\u001b[1;32m   1252\u001b[0m nrows \u001b[38;5;241m=\u001b[39m validate_integer(\u001b[38;5;124m\"\u001b[39m\u001b[38;5;124mnrows\u001b[39m\u001b[38;5;124m\"\u001b[39m, nrows)\n\u001b[1;32m   1253\u001b[0m \u001b[38;5;28;01mtry\u001b[39;00m:\n\u001b[0;32m-> 1254\u001b[0m     index, columns, col_dict \u001b[38;5;241m=\u001b[39m \u001b[38;5;28;43mself\u001b[39;49m\u001b[38;5;241;43m.\u001b[39;49m\u001b[43m_engine\u001b[49m\u001b[38;5;241;43m.\u001b[39;49m\u001b[43mread\u001b[49m\u001b[43m(\u001b[49m\u001b[43mnrows\u001b[49m\u001b[43m)\u001b[49m\n\u001b[1;32m   1255\u001b[0m \u001b[38;5;28;01mexcept\u001b[39;00m \u001b[38;5;167;01mException\u001b[39;00m:\n\u001b[1;32m   1256\u001b[0m     \u001b[38;5;28mself\u001b[39m\u001b[38;5;241m.\u001b[39mclose()\n",
      "File \u001b[0;32m/opt/homebrew/Caskroom/miniforge/base/envs/bliss/lib/python3.8/site-packages/pandas/io/parsers/c_parser_wrapper.py:225\u001b[0m, in \u001b[0;36mCParserWrapper.read\u001b[0;34m(self, nrows)\u001b[0m\n\u001b[1;32m    223\u001b[0m \u001b[38;5;28;01mtry\u001b[39;00m:\n\u001b[1;32m    224\u001b[0m     \u001b[38;5;28;01mif\u001b[39;00m \u001b[38;5;28mself\u001b[39m\u001b[38;5;241m.\u001b[39mlow_memory:\n\u001b[0;32m--> 225\u001b[0m         chunks \u001b[38;5;241m=\u001b[39m \u001b[38;5;28;43mself\u001b[39;49m\u001b[38;5;241;43m.\u001b[39;49m\u001b[43m_reader\u001b[49m\u001b[38;5;241;43m.\u001b[39;49m\u001b[43mread_low_memory\u001b[49m\u001b[43m(\u001b[49m\u001b[43mnrows\u001b[49m\u001b[43m)\u001b[49m\n\u001b[1;32m    226\u001b[0m         \u001b[38;5;66;03m# destructive to chunks\u001b[39;00m\n\u001b[1;32m    227\u001b[0m         data \u001b[38;5;241m=\u001b[39m _concatenate_chunks(chunks)\n",
      "File \u001b[0;32m/opt/homebrew/Caskroom/miniforge/base/envs/bliss/lib/python3.8/site-packages/pandas/_libs/parsers.pyx:805\u001b[0m, in \u001b[0;36mpandas._libs.parsers.TextReader.read_low_memory\u001b[0;34m()\u001b[0m\n",
      "File \u001b[0;32m/opt/homebrew/Caskroom/miniforge/base/envs/bliss/lib/python3.8/site-packages/pandas/_libs/parsers.pyx:861\u001b[0m, in \u001b[0;36mpandas._libs.parsers.TextReader._read_rows\u001b[0;34m()\u001b[0m\n",
      "File \u001b[0;32m/opt/homebrew/Caskroom/miniforge/base/envs/bliss/lib/python3.8/site-packages/pandas/_libs/parsers.pyx:847\u001b[0m, in \u001b[0;36mpandas._libs.parsers.TextReader._tokenize_rows\u001b[0;34m()\u001b[0m\n",
      "File \u001b[0;32m/opt/homebrew/Caskroom/miniforge/base/envs/bliss/lib/python3.8/site-packages/pandas/_libs/parsers.pyx:1960\u001b[0m, in \u001b[0;36mpandas._libs.parsers.raise_parser_error\u001b[0;34m()\u001b[0m\n",
      "\u001b[0;31mParserError\u001b[0m: Error tokenizing data. C error: Expected 10 fields in line 2, saw 13\n"
     ]
    }
   ],
   "source": [
    "mol_pdb = pd.read_csv(\"chignolin/1uao.pdb\", header=None, delim_whitespace=True)\n",
    "\n",
    "hydrogen_idxs = set(mol_pdb.loc[mol_pdb[2].str.startswith(\"H\")].index.tolist())\n",
    "indices = mol_pdb.index.tolist()\n",
    "num_non_H = len(indices) - len(hydrogen_idxs)\n",
    "reindexed_atoms = []\n",
    "\n",
    "non_H_count = 0\n",
    "H_count = 0\n",
    "for index in indices:\n",
    "    if index in hydrogen_idxs:\n",
    "        reindex = num_non_H + H_count\n",
    "        H_count += 1\n",
    "    else:\n",
    "        reindex = non_H_count\n",
    "        non_H_count += 1\n",
    "    reindexed_atoms.append(reindex + 1)"
   ]
  },
  {
   "cell_type": "code",
   "execution_count": 10,
   "id": "f9f82b5e-8e64-4342-85db-097509e2c0e2",
   "metadata": {},
   "outputs": [],
   "source": [
    "with open('chignolin/1uao.pdb', 'r') as f:\n",
    "    lines = f.readlines()\n",
    "\n",
    "reordered_lines = [lines[reindexed_atoms.index(i + 1) + 1] for i in range(len(reindexed_atoms))]\n",
    "\n",
    "reindexed_lines = []\n",
    "for idx, line in enumerate(reordered_lines):\n",
    "    prev_idx = line.split()[1]\n",
    "    new_idx = str(idx + 1)\n",
    "    \n",
    "    offset = len(prev_idx) - len(new_idx)\n",
    "    start_idx = line.find(prev_idx)\n",
    "    \n",
    "    if offset < 0:\n",
    "        replaced = line[:start_idx + offset] + new_idx + line[start_idx + len(prev_idx):]\n",
    "    else:\n",
    "        replaced = line[:start_idx] + new_idx.rjust(len(prev_idx), \" \") + line[start_idx + len(prev_idx):]\n",
    "    reindexed_lines.append(replaced)\n",
    "    \n",
    "reindexed_lines.insert(0, lines[0])\n",
    "reindexed_lines.append(lines[-1])"
   ]
  },
  {
   "cell_type": "code",
   "execution_count": 11,
   "id": "68b28386-89dd-46fc-991b-db0ece1514c4",
   "metadata": {},
   "outputs": [],
   "source": [
    "with open('chignolin.pdb', 'w') as fo:\n",
    "    fo.writelines(reindexed_lines)"
   ]
  },
  {
   "cell_type": "code",
   "execution_count": 12,
   "id": "1882b956-1cfb-4ba6-bb01-1a16b6234587",
   "metadata": {},
   "outputs": [],
   "source": [
    "def generate_chignolin() -> Chem.Mol:\n",
    "    \"\"\"Generates chignolin molecule.\n",
    "    \"\"\"\n",
    "\n",
    "    chignolin_pdb_fn = \"chignolin.pdb\"\n",
    "    chignolin = Chem.rdmolfiles.MolFromPDBFile(chignolin_pdb_fn, removeHs=False)\n",
    "    Chem.SanitizeMol(chignolin)\n",
    "    return chignolin\n",
    "\n",
    "chignolin = generate_chignolin()"
   ]
  },
  {
   "cell_type": "code",
   "execution_count": 13,
   "id": "a9bb3de6-093a-4829-a2ca-202416f3db84",
   "metadata": {},
   "outputs": [],
   "source": [
    "nonring, ring = TorsionFingerprints.CalculateTorsionLists(chignolin)\n",
    "nonring_A = [list(atoms[0]) for atoms, ang in nonring]"
   ]
  },
  {
   "cell_type": "code",
   "execution_count": 14,
   "id": "a18fb929-6119-4f72-b134-627361aa443c",
   "metadata": {},
   "outputs": [
    {
     "data": {
      "text/plain": [
       "[[3, 2, 1, 0],\n",
       " [5, 4, 2, 1],\n",
       " [14, 5, 4, 2],\n",
       " [7, 6, 5, 14],\n",
       " [8, 7, 6, 5],\n",
       " [15, 14, 5, 6],\n",
       " [17, 16, 14, 15],\n",
       " [22, 17, 16, 14],\n",
       " [19, 18, 17, 22],\n",
       " [20, 19, 18, 17],\n",
       " [24, 22, 17, 16],\n",
       " [26, 24, 22, 17],\n",
       " [30, 29, 26, 27],\n",
       " [32, 31, 29, 26],\n",
       " [38, 32, 31, 29],\n",
       " [34, 33, 32, 38],\n",
       " [35, 34, 33, 32],\n",
       " [36, 35, 34, 33],\n",
       " [40, 38, 32, 33],\n",
       " [41, 40, 38, 39],\n",
       " [42, 41, 40, 38],\n",
       " [44, 42, 41, 40],\n",
       " [46, 45, 41, 40],\n",
       " [48, 47, 45, 46],\n",
       " [49, 48, 47, 45],\n",
       " [50, 49, 48, 47],\n",
       " [52, 51, 49, 50],\n",
       " [53, 52, 51, 49],\n",
       " [55, 53, 52, 51],\n",
       " [57, 56, 52, 53],\n",
       " [59, 58, 56, 57],\n",
       " [70, 59, 58, 56],\n",
       " [61, 60, 59, 70],\n",
       " [62, 61, 60, 59],\n",
       " [71, 70, 59, 58],\n",
       " [73, 72, 70, 71],\n",
       " [74, 73, 72, 70],\n",
       " [75, 74, 73, 72]]"
      ]
     },
     "execution_count": 14,
     "metadata": {},
     "output_type": "execute_result"
    }
   ],
   "source": [
    "nonring_A"
   ]
  },
  {
   "cell_type": "code",
   "execution_count": 3,
   "id": "4ce81e33-415e-4394-904e-a9b865e4afe5",
   "metadata": {},
   "outputs": [],
   "source": [
    "def generate_chignolin() -> Chem.Mol:\n",
    "    \"\"\"Generates chignolin molecule.\n",
    "    \"\"\"\n",
    "\n",
    "    chignolin_pdb_fn = \"chignolin/1uao.pdb\"\n",
    "    chignolin = Chem.rdmolfiles.MolFromPDBFile(chignolin_pdb_fn, removeHs=False)\n",
    "    Chem.SanitizeMol(chignolin)\n",
    "    return chignolin"
   ]
  },
  {
   "cell_type": "code",
   "execution_count": 4,
   "id": "3d268b02-b784-43bd-b62f-7dfe86282eba",
   "metadata": {},
   "outputs": [],
   "source": [
    "chignolin = generate_chignolin()\n",
    "cleaned_chig = Chem.rdmolops.RemoveHs(chignolin)\n",
    "cleaned_chig = Chem.AddHs(cleaned_chig)\n",
    "nonring, ring = TorsionFingerprints.CalculateTorsionLists(cleaned_chig)\n",
    "nonring_B = [list(atoms[0]) for atoms, ang in nonring]"
   ]
  },
  {
   "cell_type": "code",
   "execution_count": 5,
   "id": "b4582a4b-cf6a-4582-a3ee-327cf146ba08",
   "metadata": {},
   "outputs": [
    {
     "data": {
      "text/plain": [
       "[[3, 2, 1, 0],\n",
       " [5, 4, 2, 1],\n",
       " [14, 5, 4, 2],\n",
       " [7, 6, 5, 14],\n",
       " [8, 7, 6, 5],\n",
       " [15, 14, 5, 6],\n",
       " [17, 16, 14, 15],\n",
       " [22, 17, 16, 14],\n",
       " [19, 18, 17, 22],\n",
       " [20, 19, 18, 17],\n",
       " [24, 22, 17, 16],\n",
       " [26, 24, 22, 17],\n",
       " [30, 29, 26, 27],\n",
       " [32, 31, 29, 26],\n",
       " [38, 32, 31, 29],\n",
       " [34, 33, 32, 38],\n",
       " [35, 34, 33, 32],\n",
       " [36, 35, 34, 33],\n",
       " [40, 38, 32, 33],\n",
       " [41, 40, 38, 39],\n",
       " [42, 41, 40, 38],\n",
       " [44, 42, 41, 40],\n",
       " [46, 45, 41, 40],\n",
       " [48, 47, 45, 46],\n",
       " [49, 48, 47, 45],\n",
       " [50, 49, 48, 47],\n",
       " [52, 51, 49, 50],\n",
       " [53, 52, 51, 49],\n",
       " [55, 53, 52, 51],\n",
       " [57, 56, 52, 53],\n",
       " [59, 58, 56, 57],\n",
       " [70, 59, 58, 56],\n",
       " [61, 60, 59, 70],\n",
       " [62, 61, 60, 59],\n",
       " [71, 70, 59, 58],\n",
       " [73, 72, 70, 71],\n",
       " [74, 73, 72, 70],\n",
       " [75, 74, 73, 72]]"
      ]
     },
     "execution_count": 5,
     "metadata": {},
     "output_type": "execute_result"
    }
   ],
   "source": [
    "nonring_B"
   ]
  },
  {
   "cell_type": "code",
   "execution_count": 15,
   "id": "2fab8bd8-4f93-41e6-94f2-9a75d96067ab",
   "metadata": {},
   "outputs": [
    {
     "data": {
      "text/plain": [
       "True"
      ]
     },
     "execution_count": 15,
     "metadata": {},
     "output_type": "execute_result"
    }
   ],
   "source": [
    "nonring_A == nonring_B"
   ]
  },
  {
   "cell_type": "code",
   "execution_count": null,
   "id": "c502c623-a171-4df9-b902-8e7c122fe484",
   "metadata": {},
   "outputs": [],
   "source": []
  }
 ],
 "metadata": {
  "kernelspec": {
   "display_name": "Python 3 (ipykernel)",
   "language": "python",
   "name": "python3"
  },
  "language_info": {
   "codemirror_mode": {
    "name": "ipython",
    "version": 3
   },
   "file_extension": ".py",
   "mimetype": "text/x-python",
   "name": "python",
   "nbconvert_exporter": "python",
   "pygments_lexer": "ipython3",
   "version": "3.8.13"
  }
 },
 "nbformat": 4,
 "nbformat_minor": 5
}
