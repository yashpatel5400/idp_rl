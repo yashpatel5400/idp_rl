{
 "cells": [
  {
   "cell_type": "code",
   "execution_count": 64,
   "id": "403a5597-c34c-4b7f-bda7-4a986ef89a67",
   "metadata": {},
   "outputs": [],
   "source": [
    "import pandas as pd"
   ]
  },
  {
   "cell_type": "code",
   "execution_count": 243,
   "id": "2326d350-8e59-4a12-a564-d0a7d3909b17",
   "metadata": {
    "tags": []
   },
   "outputs": [],
   "source": [
    "mol_pdb = pd.read_csv(\"chignolin/1uao.pdb\", header=None, delim_whitespace=True)\n",
    "\n",
    "hydrogen_idxs = set(mol_pdb.loc[mol_pdb[2].str.startswith(\"H\")].index.tolist())\n",
    "indices = mol_pdb.index.tolist()\n",
    "num_non_H = len(indices) - len(hydrogen_idxs)\n",
    "reindexed_atoms = []\n",
    "\n",
    "non_H_count = 0\n",
    "H_count = 0\n",
    "for index in indices:\n",
    "    if index in hydrogen_idxs:\n",
    "        reindex = num_non_H + H_count\n",
    "        H_count += 1\n",
    "    else:\n",
    "        reindex = non_H_count\n",
    "        non_H_count += 1\n",
    "    reindexed_atoms.append(reindex + 1)"
   ]
  },
  {
   "cell_type": "code",
   "execution_count": 282,
   "id": "f9f82b5e-8e64-4342-85db-097509e2c0e2",
   "metadata": {},
   "outputs": [],
   "source": [
    "with open('chignolin/1uao.pdb', 'r') as f:\n",
    "    lines = f.readlines()\n",
    "\n",
    "reordered_lines = [lines[reindexed_atoms.index(i + 1) + 1] for i in range(len(reindexed_atoms))]\n",
    "\n",
    "reindexed_lines = []\n",
    "for idx, line in enumerate(reordered_lines):\n",
    "    prev_idx = line.split()[1]\n",
    "    new_idx = str(idx + 1)\n",
    "    \n",
    "    offset = len(prev_idx) - len(new_idx)\n",
    "    start_idx = line.find(prev_idx)\n",
    "    \n",
    "    if offset < 0:\n",
    "        replaced = line[:start_idx + offset] + new_idx + line[start_idx + len(prev_idx):]\n",
    "    else:\n",
    "        replaced = line[:start_idx] + new_idx.rjust(len(prev_idx), \" \") + line[start_idx + len(prev_idx):]\n",
    "    reindexed_lines.append(replaced)\n",
    "    \n",
    "reindexed_lines.insert(0, lines[0])\n",
    "reindexed_lines.append(lines[-1])"
   ]
  },
  {
   "cell_type": "code",
   "execution_count": 283,
   "id": "68b28386-89dd-46fc-991b-db0ece1514c4",
   "metadata": {},
   "outputs": [],
   "source": [
    "with open('chignolin.pdb', 'w') as fo:\n",
    "    fo.writelines(reindexed_lines)"
   ]
  },
  {
   "cell_type": "code",
   "execution_count": 297,
   "id": "1882b956-1cfb-4ba6-bb01-1a16b6234587",
   "metadata": {},
   "outputs": [],
   "source": [
    "def generate_chignolin() -> Chem.Mol:\n",
    "    \"\"\"Generates chignolin molecule.\n",
    "    \"\"\"\n",
    "\n",
    "    chignolin_pdb_fn = \"chignolin.pdb\"\n",
    "    chignolin = Chem.rdmolfiles.MolFromPDBFile(chignolin_pdb_fn, removeHs=False)\n",
    "    Chem.SanitizeMol(chignolin)\n",
    "    return chignolin\n",
    "\n",
    "chignolin = generate_chignolin()"
   ]
  },
  {
   "cell_type": "code",
   "execution_count": 300,
   "id": "a9bb3de6-093a-4829-a2ca-202416f3db84",
   "metadata": {},
   "outputs": [],
   "source": [
    "nonring, ring = TorsionFingerprints.CalculateTorsionLists(chignolin)\n",
    "nonring_A = [list(atoms[0]) for atoms, ang in nonring]"
   ]
  },
  {
   "cell_type": "code",
   "execution_count": 301,
   "id": "a18fb929-6119-4f72-b134-627361aa443c",
   "metadata": {},
   "outputs": [
    {
     "data": {
      "text/plain": [
       "[[3, 2, 1, 0],\n",
       " [5, 4, 2, 1],\n",
       " [14, 5, 4, 2],\n",
       " [7, 6, 5, 14],\n",
       " [8, 7, 6, 5],\n",
       " [15, 14, 5, 6],\n",
       " [17, 16, 14, 15],\n",
       " [22, 17, 16, 14],\n",
       " [19, 18, 17, 22],\n",
       " [20, 19, 18, 17],\n",
       " [24, 22, 17, 16],\n",
       " [26, 24, 22, 17],\n",
       " [30, 29, 26, 27],\n",
       " [32, 31, 29, 26],\n",
       " [38, 32, 31, 29],\n",
       " [34, 33, 32, 38],\n",
       " [35, 34, 33, 32],\n",
       " [36, 35, 34, 33],\n",
       " [40, 38, 32, 33],\n",
       " [41, 40, 38, 39],\n",
       " [42, 41, 40, 38],\n",
       " [44, 42, 41, 40],\n",
       " [46, 45, 41, 40],\n",
       " [48, 47, 45, 46],\n",
       " [49, 48, 47, 45],\n",
       " [50, 49, 48, 47],\n",
       " [52, 51, 49, 50],\n",
       " [53, 52, 51, 49],\n",
       " [55, 53, 52, 51],\n",
       " [57, 56, 52, 53],\n",
       " [59, 58, 56, 57],\n",
       " [70, 59, 58, 56],\n",
       " [61, 60, 59, 70],\n",
       " [62, 61, 60, 59],\n",
       " [71, 70, 59, 58],\n",
       " [73, 72, 70, 71],\n",
       " [74, 73, 72, 70],\n",
       " [75, 74, 73, 72]]"
      ]
     },
     "execution_count": 301,
     "metadata": {},
     "output_type": "execute_result"
    }
   ],
   "source": [
    "nonring_A"
   ]
  },
  {
   "cell_type": "code",
   "execution_count": 304,
   "id": "4ce81e33-415e-4394-904e-a9b865e4afe5",
   "metadata": {},
   "outputs": [],
   "source": [
    "def generate_chignolin() -> Chem.Mol:\n",
    "    \"\"\"Generates chignolin molecule.\n",
    "    \"\"\"\n",
    "\n",
    "    chignolin_pdb_fn = \"chignolin/1uao.pdb\"\n",
    "    chignolin = Chem.rdmolfiles.MolFromPDBFile(chignolin_pdb_fn, removeHs=False)\n",
    "    Chem.SanitizeMol(chignolin)\n",
    "    return chignolin"
   ]
  },
  {
   "cell_type": "code",
   "execution_count": 305,
   "id": "3d268b02-b784-43bd-b62f-7dfe86282eba",
   "metadata": {},
   "outputs": [],
   "source": [
    "chignolin = generate_chignolin()\n",
    "cleaned_chig = Chem.rdmolops.RemoveHs(chignolin)\n",
    "cleaned_chig = Chem.AddHs(cleaned_chig)\n",
    "nonring, ring = TorsionFingerprints.CalculateTorsionLists(cleaned_chig)\n",
    "nonring_B = [list(atoms[0]) for atoms, ang in nonring]"
   ]
  },
  {
   "cell_type": "code",
   "execution_count": 306,
   "id": "b4582a4b-cf6a-4582-a3ee-327cf146ba08",
   "metadata": {},
   "outputs": [
    {
     "data": {
      "text/plain": [
       "[[3, 2, 1, 0],\n",
       " [5, 4, 2, 1],\n",
       " [14, 5, 4, 2],\n",
       " [7, 6, 5, 14],\n",
       " [8, 7, 6, 5],\n",
       " [15, 14, 5, 6],\n",
       " [17, 16, 14, 15],\n",
       " [22, 17, 16, 14],\n",
       " [19, 18, 17, 22],\n",
       " [20, 19, 18, 17],\n",
       " [24, 22, 17, 16],\n",
       " [26, 24, 22, 17],\n",
       " [30, 29, 26, 27],\n",
       " [32, 31, 29, 26],\n",
       " [38, 32, 31, 29],\n",
       " [34, 33, 32, 38],\n",
       " [35, 34, 33, 32],\n",
       " [36, 35, 34, 33],\n",
       " [40, 38, 32, 33],\n",
       " [41, 40, 38, 39],\n",
       " [42, 41, 40, 38],\n",
       " [44, 42, 41, 40],\n",
       " [46, 45, 41, 40],\n",
       " [48, 47, 45, 46],\n",
       " [49, 48, 47, 45],\n",
       " [50, 49, 48, 47],\n",
       " [52, 51, 49, 50],\n",
       " [53, 52, 51, 49],\n",
       " [55, 53, 52, 51],\n",
       " [57, 56, 52, 53],\n",
       " [59, 58, 56, 57],\n",
       " [70, 59, 58, 56],\n",
       " [61, 60, 59, 70],\n",
       " [62, 61, 60, 59],\n",
       " [71, 70, 59, 58],\n",
       " [73, 72, 70, 71],\n",
       " [74, 73, 72, 70],\n",
       " [75, 74, 73, 72]]"
      ]
     },
     "execution_count": 306,
     "metadata": {},
     "output_type": "execute_result"
    }
   ],
   "source": [
    "nonring_B"
   ]
  },
  {
   "cell_type": "code",
   "execution_count": 307,
   "id": "2fab8bd8-4f93-41e6-94f2-9a75d96067ab",
   "metadata": {},
   "outputs": [
    {
     "data": {
      "text/plain": [
       "True"
      ]
     },
     "execution_count": 307,
     "metadata": {},
     "output_type": "execute_result"
    }
   ],
   "source": [
    "nonring_A == nonring_B"
   ]
  },
  {
   "cell_type": "code",
   "execution_count": null,
   "id": "c502c623-a171-4df9-b902-8e7c122fe484",
   "metadata": {},
   "outputs": [],
   "source": []
  }
 ],
 "metadata": {
  "kernelspec": {
   "display_name": "Python 3 (ipykernel)",
   "language": "python",
   "name": "python3"
  },
  "language_info": {
   "codemirror_mode": {
    "name": "ipython",
    "version": 3
   },
   "file_extension": ".py",
   "mimetype": "text/x-python",
   "name": "python",
   "nbconvert_exporter": "python",
   "pygments_lexer": "ipython3",
   "version": "3.8.13"
  }
 },
 "nbformat": 4,
 "nbformat_minor": 5
}
