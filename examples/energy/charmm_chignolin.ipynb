{
 "cells": [
  {
   "cell_type": "code",
   "execution_count": 3,
   "id": "9c85bf50-77d2-41e4-9dce-96565971e8c5",
   "metadata": {},
   "outputs": [],
   "source": [
    "from rdkit import Chem\n",
    "from rdkit.Chem import AllChem\n",
    "\n",
    "import parmed as pmd\n",
    "import openmm\n",
    "import openmm.app as app\n",
    "import openmm.unit as u\n",
    "import numpy as np"
   ]
  },
  {
   "cell_type": "code",
   "execution_count": 4,
   "id": "52e9892c-4673-4902-ba2c-ad7ea4544700",
   "metadata": {},
   "outputs": [],
   "source": [
    "def compare_energies(mol, toppar_filenames, system_kwargs=None, units=u.kilojoules_per_mole):\n",
    "    psf_filename = \"mol.psf\"\n",
    "    pmd_chignolin = pmd.load_rdkit(chignolin)\n",
    "    pmd_chignolin.write_psf(psf_filename)\n",
    "    \n",
    "    openmm_toppar = app.CharmmParameterSet(*toppar_filenames)\n",
    "    openmm_psf = app.CharmmPsfFile(psf_filename)\n",
    "    openmm_system = openmm_psf.createSystem(openmm_toppar, **system_kwargs)\n",
    "\n",
    "    integrator = openmm.VerletIntegrator(1.0)\n",
    "    platform = openmm.Platform.getPlatformByName(\"CPU\")\n",
    "    simulation = app.Simulation(openmm_psf.topology, openmm_system, integrator, platform)\n",
    "    \n",
    "    conf = mol.GetConformer(0)\n",
    "    positions = conf.GetPositions()\n",
    "    simulation.context.setPositions(positions)\n",
    "\n",
    "    print(simulation.context.getState(getEnergy=True).getPotentialEnergy())\n",
    "    # simulation.minimizeEnergy(maxIterations=500)\n",
    "    # print(simulation.context.getState(getEnergy=True).getPotentialEnergy())"
   ]
  },
  {
   "cell_type": "code",
   "execution_count": 5,
   "id": "3b149d34-cd83-4adc-9f7e-b25c931b1742",
   "metadata": {},
   "outputs": [
    {
     "data": {
      "text/plain": [
       "0"
      ]
     },
     "execution_count": 5,
     "metadata": {},
     "output_type": "execute_result"
    }
   ],
   "source": [
    "chignolin = Chem.rdmolfiles.MolFromFASTA(\"GYDPETGTWG\")\n",
    "chignolin = Chem.AddHs(chignolin)\n",
    "AllChem.MMFFSanitizeMolecule(chignolin)\n",
    "\n",
    "Chem.rdDistGeom.EmbedMolecule(chignolin)"
   ]
  },
  {
   "cell_type": "code",
   "execution_count": 6,
   "id": "57dc9573-7b7c-447f-939b-c81c4bf82bb2",
   "metadata": {},
   "outputs": [
    {
     "ename": "MissingParameter",
     "evalue": "Could not find atom type for CB",
     "output_type": "error",
     "traceback": [
      "\u001b[0;31m---------------------------------------------------------------------------\u001b[0m",
      "\u001b[0;31mKeyError\u001b[0m                                  Traceback (most recent call last)",
      "File \u001b[0;32m/opt/homebrew/Caskroom/miniforge/base/envs/bliss/lib/python3.8/site-packages/openmm/app/charmmpsffile.py:621\u001b[0m, in \u001b[0;36mCharmmPsfFile.loadParameters\u001b[0;34m(self, parmset)\u001b[0m\n\u001b[1;32m    620\u001b[0m     \u001b[38;5;28;01melse\u001b[39;00m:\n\u001b[0;32m--> 621\u001b[0m         atype \u001b[38;5;241m=\u001b[39m \u001b[43mparmset\u001b[49m\u001b[38;5;241;43m.\u001b[39;49m\u001b[43matom_types_str\u001b[49m\u001b[43m[\u001b[49m\u001b[43matom\u001b[49m\u001b[38;5;241;43m.\u001b[39;49m\u001b[43mattype\u001b[49m\u001b[43m]\u001b[49m\n\u001b[1;32m    622\u001b[0m \u001b[38;5;28;01mexcept\u001b[39;00m \u001b[38;5;167;01mKeyError\u001b[39;00m:\n",
      "\u001b[0;31mKeyError\u001b[0m: 'CB'",
      "\nDuring handling of the above exception, another exception occurred:\n",
      "\u001b[0;31mMissingParameter\u001b[0m                          Traceback (most recent call last)",
      "Input \u001b[0;32mIn [6]\u001b[0m, in \u001b[0;36m<cell line: 8>\u001b[0;34m()\u001b[0m\n\u001b[1;32m      1\u001b[0m SOLVENT_KWARGS \u001b[38;5;241m=\u001b[39m {\n\u001b[1;32m      2\u001b[0m     \u001b[38;5;124m\"\u001b[39m\u001b[38;5;124mnonbondedMethod\u001b[39m\u001b[38;5;124m\"\u001b[39m: app\u001b[38;5;241m.\u001b[39mNoCutoff,\n\u001b[1;32m      3\u001b[0m     \u001b[38;5;124m\"\u001b[39m\u001b[38;5;124mconstraints\u001b[39m\u001b[38;5;124m\"\u001b[39m: app\u001b[38;5;241m.\u001b[39mHBonds,\n\u001b[1;32m      4\u001b[0m     \u001b[38;5;124m\"\u001b[39m\u001b[38;5;124mimplicitSolvent\u001b[39m\u001b[38;5;124m\"\u001b[39m: app\u001b[38;5;241m.\u001b[39mHCT,\n\u001b[1;32m      5\u001b[0m     \u001b[38;5;124m\"\u001b[39m\u001b[38;5;124mrigidWater\u001b[39m\u001b[38;5;124m\"\u001b[39m: \u001b[38;5;28;01mTrue\u001b[39;00m,\n\u001b[1;32m      6\u001b[0m }\n\u001b[0;32m----> 8\u001b[0m \u001b[43mcompare_energies\u001b[49m\u001b[43m(\u001b[49m\n\u001b[1;32m      9\u001b[0m \u001b[43m    \u001b[49m\u001b[43mchignolin\u001b[49m\u001b[43m,\u001b[49m\n\u001b[1;32m     10\u001b[0m \u001b[43m    \u001b[49m\u001b[43m[\u001b[49m\u001b[38;5;124;43m\"\u001b[39;49m\u001b[38;5;124;43mtoppar/par_all36_prot.prm\u001b[39;49m\u001b[38;5;124;43m\"\u001b[39;49m\u001b[43m,\u001b[49m\u001b[43m \u001b[49m\u001b[38;5;124;43m\"\u001b[39;49m\u001b[38;5;124;43mtoppar/top_all36_prot.rtf\u001b[39;49m\u001b[38;5;124;43m\"\u001b[39;49m\u001b[43m,\u001b[49m\u001b[38;5;124;43m\"\u001b[39;49m\u001b[38;5;124;43mtoppar/toppar_water_ions.str\u001b[39;49m\u001b[38;5;124;43m\"\u001b[39;49m\u001b[43m]\u001b[49m\u001b[43m,\u001b[49m\u001b[43m \u001b[49m\n\u001b[1;32m     11\u001b[0m \u001b[43m    \u001b[49m\u001b[43msystem_kwargs\u001b[49m\u001b[38;5;241;43m=\u001b[39;49m\u001b[43mSOLVENT_KWARGS\u001b[49m\n\u001b[1;32m     12\u001b[0m \u001b[43m)\u001b[49m\n",
      "Input \u001b[0;32mIn [4]\u001b[0m, in \u001b[0;36mcompare_energies\u001b[0;34m(mol, toppar_filenames, system_kwargs, units)\u001b[0m\n\u001b[1;32m      6\u001b[0m openmm_toppar \u001b[38;5;241m=\u001b[39m app\u001b[38;5;241m.\u001b[39mCharmmParameterSet(\u001b[38;5;241m*\u001b[39mtoppar_filenames)\n\u001b[1;32m      7\u001b[0m openmm_psf \u001b[38;5;241m=\u001b[39m app\u001b[38;5;241m.\u001b[39mCharmmPsfFile(psf_filename)\n\u001b[0;32m----> 8\u001b[0m openmm_system \u001b[38;5;241m=\u001b[39m \u001b[43mopenmm_psf\u001b[49m\u001b[38;5;241;43m.\u001b[39;49m\u001b[43mcreateSystem\u001b[49m\u001b[43m(\u001b[49m\u001b[43mopenmm_toppar\u001b[49m\u001b[43m,\u001b[49m\u001b[43m \u001b[49m\u001b[38;5;241;43m*\u001b[39;49m\u001b[38;5;241;43m*\u001b[39;49m\u001b[43msystem_kwargs\u001b[49m\u001b[43m)\u001b[49m\n\u001b[1;32m     10\u001b[0m integrator \u001b[38;5;241m=\u001b[39m openmm\u001b[38;5;241m.\u001b[39mVerletIntegrator(\u001b[38;5;241m1.0\u001b[39m)\n\u001b[1;32m     11\u001b[0m platform \u001b[38;5;241m=\u001b[39m openmm\u001b[38;5;241m.\u001b[39mPlatform\u001b[38;5;241m.\u001b[39mgetPlatformByName(\u001b[38;5;124m\"\u001b[39m\u001b[38;5;124mCPU\u001b[39m\u001b[38;5;124m\"\u001b[39m)\n",
      "File \u001b[0;32m/opt/homebrew/Caskroom/miniforge/base/envs/bliss/lib/python3.8/site-packages/openmm/app/charmmpsffile.py:876\u001b[0m, in \u001b[0;36mCharmmPsfFile.createSystem\u001b[0;34m(self, params, nonbondedMethod, nonbondedCutoff, switchDistance, constraints, rigidWater, implicitSolvent, implicitSolventKappa, implicitSolventSaltConc, temperature, soluteDielectric, solventDielectric, removeCMMotion, hydrogenMass, ewaldErrorTolerance, flexibleConstraints, verbose, gbsaModel, drudeMass)\u001b[0m\n\u001b[1;32m    813\u001b[0m \u001b[38;5;124;03m\"\"\"Construct an OpenMM System representing the topology described by the\u001b[39;00m\n\u001b[1;32m    814\u001b[0m \u001b[38;5;124;03mprmtop file. You MUST have loaded a parameter set into this PSF before\u001b[39;00m\n\u001b[1;32m    815\u001b[0m \u001b[38;5;124;03mcalling createSystem. If not, AttributeError will be raised. ValueError\u001b[39;00m\n\u001b[0;32m   (...)\u001b[0m\n\u001b[1;32m    873\u001b[0m \u001b[38;5;124;03m    subtracted from its parent atom to keep their total mass the same.\u001b[39;00m\n\u001b[1;32m    874\u001b[0m \u001b[38;5;124;03m\"\"\"\u001b[39;00m\n\u001b[1;32m    875\u001b[0m \u001b[38;5;66;03m# Load the parameter set\u001b[39;00m\n\u001b[0;32m--> 876\u001b[0m \u001b[38;5;28;43mself\u001b[39;49m\u001b[38;5;241;43m.\u001b[39;49m\u001b[43mloadParameters\u001b[49m\u001b[43m(\u001b[49m\u001b[43mparams\u001b[49m\u001b[43m)\u001b[49m\n\u001b[1;32m    877\u001b[0m hasbox \u001b[38;5;241m=\u001b[39m \u001b[38;5;28mself\u001b[39m\u001b[38;5;241m.\u001b[39mtopology\u001b[38;5;241m.\u001b[39mgetUnitCellDimensions() \u001b[38;5;129;01mis\u001b[39;00m \u001b[38;5;129;01mnot\u001b[39;00m \u001b[38;5;28;01mNone\u001b[39;00m\n\u001b[1;32m    878\u001b[0m \u001b[38;5;66;03m# Check GB input parameters\u001b[39;00m\n",
      "File \u001b[0;32m/opt/homebrew/Caskroom/miniforge/base/envs/bliss/lib/python3.8/site-packages/openmm/app/charmmpsffile.py:623\u001b[0m, in \u001b[0;36mCharmmPsfFile.loadParameters\u001b[0;34m(self, parmset)\u001b[0m\n\u001b[1;32m    621\u001b[0m         atype \u001b[38;5;241m=\u001b[39m parmset\u001b[38;5;241m.\u001b[39matom_types_str[atom\u001b[38;5;241m.\u001b[39mattype]\n\u001b[1;32m    622\u001b[0m \u001b[38;5;28;01mexcept\u001b[39;00m \u001b[38;5;167;01mKeyError\u001b[39;00m:\n\u001b[0;32m--> 623\u001b[0m     \u001b[38;5;28;01mraise\u001b[39;00m MissingParameter(\u001b[38;5;124m'\u001b[39m\u001b[38;5;124mCould not find atom type for \u001b[39m\u001b[38;5;132;01m%s\u001b[39;00m\u001b[38;5;124m'\u001b[39m \u001b[38;5;241m%\u001b[39m\n\u001b[1;32m    624\u001b[0m                            atom\u001b[38;5;241m.\u001b[39mattype)\n\u001b[1;32m    625\u001b[0m atom\u001b[38;5;241m.\u001b[39mtype \u001b[38;5;241m=\u001b[39m atype\n\u001b[1;32m    626\u001b[0m \u001b[38;5;66;03m# Change to string attype to look up the rest of the parameters\u001b[39;00m\n",
      "\u001b[0;31mMissingParameter\u001b[0m: Could not find atom type for CB"
     ]
    }
   ],
   "source": [
    "SOLVENT_KWARGS = {\n",
    "    \"nonbondedMethod\": app.NoCutoff,\n",
    "    \"constraints\": app.HBonds,\n",
    "    \"implicitSolvent\": app.HCT,\n",
    "    \"rigidWater\": True,\n",
    "}\n",
    "    \n",
    "compare_energies(\n",
    "    chignolin,\n",
    "    [\"toppar/par_all36_prot.prm\", \"toppar/top_all36_prot.rtf\",\"toppar/toppar_water_ions.str\"], \n",
    "    system_kwargs=SOLVENT_KWARGS\n",
    ")"
   ]
  },
  {
   "cell_type": "code",
   "execution_count": null,
   "id": "1ce7217f-83cd-46ef-894b-de60090963d3",
   "metadata": {},
   "outputs": [],
   "source": []
  }
 ],
 "metadata": {
  "kernelspec": {
   "display_name": "Python 3 (ipykernel)",
   "language": "python",
   "name": "python3"
  },
  "language_info": {
   "codemirror_mode": {
    "name": "ipython",
    "version": 3
   },
   "file_extension": ".py",
   "mimetype": "text/x-python",
   "name": "python",
   "nbconvert_exporter": "python",
   "pygments_lexer": "ipython3",
   "version": "3.8.13"
  }
 },
 "nbformat": 4,
 "nbformat_minor": 5
}
