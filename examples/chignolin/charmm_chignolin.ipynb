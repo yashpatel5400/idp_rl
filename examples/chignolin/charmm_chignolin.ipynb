{
 "cells": [
  {
   "cell_type": "code",
   "execution_count": 1,
   "id": "9c85bf50-77d2-41e4-9dce-96565971e8c5",
   "metadata": {},
   "outputs": [
    {
     "name": "stderr",
     "output_type": "stream",
     "text": [
      "Warning: importing 'simtk.openmm' is deprecated.  Import 'openmm' instead.\n"
     ]
    }
   ],
   "source": [
    "from rdkit import Chem\n",
    "from rdkit.Chem import AllChem\n",
    "\n",
    "import parmed as pmd\n",
    "import openmm\n",
    "import openmm.app as app\n",
    "import openmm.unit as u\n",
    "import numpy as np"
   ]
  },
  {
   "cell_type": "code",
   "execution_count": 2,
   "id": "52e9892c-4673-4902-ba2c-ad7ea4544700",
   "metadata": {},
   "outputs": [],
   "source": [
    "def compare_energies(psf_fn, positions, toppar_filenames, system_kwargs=None, units=u.kilojoules_per_mole):\n",
    "    openmm_toppar = app.CharmmParameterSet(*toppar_filenames)\n",
    "    openmm_psf = app.CharmmPsfFile(psf_fn)\n",
    "    openmm_system = openmm_psf.createSystem(openmm_toppar, **system_kwargs)\n",
    "\n",
    "    integrator = openmm.VerletIntegrator(1.0)\n",
    "    platform = openmm.Platform.getPlatformByName(\"CPU\")\n",
    "    simulation = app.Simulation(openmm_psf.topology, openmm_system, integrator, platform)\n",
    "    \n",
    "    simulation.context.setPositions(positions)\n",
    "\n",
    "    print(simulation.context.getState(getEnergy=True).getPotentialEnergy())\n",
    "    simulation.minimizeEnergy(maxIterations=500)\n",
    "    print(simulation.context.getState(getEnergy=True).getPotentialEnergy())\n",
    "    optimized_positions = simulation.context.getState(getPositions=True)\n",
    "    \n",
    "    return optimized_positions.getPositions()"
   ]
  },
  {
   "cell_type": "code",
   "execution_count": 3,
   "id": "ecd2b313-0275-4b18-9f36-7c6e64ea33e2",
   "metadata": {},
   "outputs": [
    {
     "data": {
      "application/vnd.jupyter.widget-view+json": {
       "model_id": "e4a928cd7b0e41a6b432d3f8961232ce",
       "version_major": 2,
       "version_minor": 0
      },
      "text/plain": []
     },
     "metadata": {},
     "output_type": "display_data"
    },
    {
     "data": {
      "application/vnd.jupyter.widget-view+json": {
       "model_id": "ccf21a525f6f443fac2fcd560aec679c",
       "version_major": 2,
       "version_minor": 0
      },
      "text/plain": [
       "NGLWidget()"
      ]
     },
     "metadata": {},
     "output_type": "display_data"
    }
   ],
   "source": [
    "pdb_chignolin = pmd.load_file(\"1uao.pdb\")\n",
    "pdb_chignolin.visualize()"
   ]
  },
  {
   "cell_type": "code",
   "execution_count": 4,
   "id": "42c1aa20-4867-4f7f-9594-83cededd7177",
   "metadata": {},
   "outputs": [
    {
     "data": {
      "application/vnd.jupyter.widget-view+json": {
       "model_id": "51468ea883b24bd0873b417a3a7d876f",
       "version_major": 2,
       "version_minor": 0
      },
      "text/plain": [
       "NGLWidget()"
      ]
     },
     "metadata": {},
     "output_type": "display_data"
    }
   ],
   "source": [
    "perturbed_locations = [x * np.random.uniform(0.9, 1.1) for x in pdb_chignolin.positions]\n",
    "mm_perturbed_locations = openmm.unit.quantity.Quantity(perturbed_locations)\n",
    "pdb_chignolin.positions = mm_perturbed_locations\n",
    "pdb_chignolin.visualize()"
   ]
  },
  {
   "cell_type": "code",
   "execution_count": 49,
   "id": "57dc9573-7b7c-447f-939b-c81c4bf82bb2",
   "metadata": {},
   "outputs": [
    {
     "ename": "OpenMMException",
     "evalue": "Called setPositions() on a Context with the wrong number of positions",
     "output_type": "error",
     "traceback": [
      "\u001b[0;31m---------------------------------------------------------------------------\u001b[0m",
      "\u001b[0;31mOpenMMException\u001b[0m                           Traceback (most recent call last)",
      "Input \u001b[0;32mIn [49]\u001b[0m, in \u001b[0;36m<cell line: 9>\u001b[0;34m()\u001b[0m\n\u001b[1;32m      1\u001b[0m SOLVENT_KWARGS \u001b[38;5;241m=\u001b[39m {\n\u001b[1;32m      2\u001b[0m     \u001b[38;5;124m\"\u001b[39m\u001b[38;5;124mnonbondedMethod\u001b[39m\u001b[38;5;124m\"\u001b[39m: app\u001b[38;5;241m.\u001b[39mNoCutoff,\n\u001b[1;32m      3\u001b[0m     \u001b[38;5;124m\"\u001b[39m\u001b[38;5;124mconstraints\u001b[39m\u001b[38;5;124m\"\u001b[39m: app\u001b[38;5;241m.\u001b[39mHBonds,\n\u001b[1;32m      4\u001b[0m     \u001b[38;5;124m\"\u001b[39m\u001b[38;5;124mimplicitSolvent\u001b[39m\u001b[38;5;124m\"\u001b[39m: app\u001b[38;5;241m.\u001b[39mHCT,\n\u001b[1;32m      5\u001b[0m     \u001b[38;5;124m\"\u001b[39m\u001b[38;5;124mrigidWater\u001b[39m\u001b[38;5;124m\"\u001b[39m: \u001b[38;5;28;01mTrue\u001b[39;00m,\n\u001b[1;32m      6\u001b[0m }\n\u001b[1;32m      8\u001b[0m chignolin_psf \u001b[38;5;241m=\u001b[39m \u001b[38;5;124m\"\u001b[39m\u001b[38;5;124m1uao_v2.psf\u001b[39m\u001b[38;5;124m\"\u001b[39m\n\u001b[0;32m----> 9\u001b[0m optimized_positions \u001b[38;5;241m=\u001b[39m \u001b[43mcompare_energies\u001b[49m\u001b[43m(\u001b[49m\n\u001b[1;32m     10\u001b[0m \u001b[43m    \u001b[49m\u001b[43mchignolin_psf\u001b[49m\u001b[43m,\u001b[49m\n\u001b[1;32m     11\u001b[0m \u001b[43m    \u001b[49m\u001b[43mpdb_chignolin\u001b[49m\u001b[38;5;241;43m.\u001b[39;49m\u001b[43mpositions\u001b[49m\u001b[43m,\u001b[49m\n\u001b[1;32m     12\u001b[0m \u001b[43m    \u001b[49m\u001b[43m[\u001b[49m\u001b[38;5;124;43m\"\u001b[39;49m\u001b[38;5;124;43mtoppar/par_all36_prot.prm\u001b[39;49m\u001b[38;5;124;43m\"\u001b[39;49m\u001b[43m,\u001b[49m\u001b[43m \u001b[49m\u001b[38;5;124;43m\"\u001b[39;49m\u001b[38;5;124;43mtoppar/top_all36_prot.rtf\u001b[39;49m\u001b[38;5;124;43m\"\u001b[39;49m\u001b[43m,\u001b[49m\u001b[38;5;124;43m\"\u001b[39;49m\u001b[38;5;124;43mtoppar/toppar_water_ions.str\u001b[39;49m\u001b[38;5;124;43m\"\u001b[39;49m\u001b[43m]\u001b[49m\u001b[43m,\u001b[49m\u001b[43m \u001b[49m\n\u001b[1;32m     13\u001b[0m \u001b[43m    \u001b[49m\u001b[43msystem_kwargs\u001b[49m\u001b[38;5;241;43m=\u001b[39;49m\u001b[43mSOLVENT_KWARGS\u001b[49m\n\u001b[1;32m     14\u001b[0m \u001b[43m)\u001b[49m\n",
      "Input \u001b[0;32mIn [2]\u001b[0m, in \u001b[0;36mcompare_energies\u001b[0;34m(psf_fn, positions, toppar_filenames, system_kwargs, units)\u001b[0m\n\u001b[1;32m      7\u001b[0m platform \u001b[38;5;241m=\u001b[39m openmm\u001b[38;5;241m.\u001b[39mPlatform\u001b[38;5;241m.\u001b[39mgetPlatformByName(\u001b[38;5;124m\"\u001b[39m\u001b[38;5;124mCPU\u001b[39m\u001b[38;5;124m\"\u001b[39m)\n\u001b[1;32m      8\u001b[0m simulation \u001b[38;5;241m=\u001b[39m app\u001b[38;5;241m.\u001b[39mSimulation(openmm_psf\u001b[38;5;241m.\u001b[39mtopology, openmm_system, integrator, platform)\n\u001b[0;32m---> 10\u001b[0m \u001b[43msimulation\u001b[49m\u001b[38;5;241;43m.\u001b[39;49m\u001b[43mcontext\u001b[49m\u001b[38;5;241;43m.\u001b[39;49m\u001b[43msetPositions\u001b[49m\u001b[43m(\u001b[49m\u001b[43mpositions\u001b[49m\u001b[43m)\u001b[49m\n\u001b[1;32m     12\u001b[0m \u001b[38;5;28mprint\u001b[39m(simulation\u001b[38;5;241m.\u001b[39mcontext\u001b[38;5;241m.\u001b[39mgetState(getEnergy\u001b[38;5;241m=\u001b[39m\u001b[38;5;28;01mTrue\u001b[39;00m)\u001b[38;5;241m.\u001b[39mgetPotentialEnergy())\n\u001b[1;32m     13\u001b[0m simulation\u001b[38;5;241m.\u001b[39mminimizeEnergy(maxIterations\u001b[38;5;241m=\u001b[39m\u001b[38;5;241m500\u001b[39m)\n",
      "File \u001b[0;32m/opt/homebrew/Caskroom/miniforge/base/envs/bliss/lib/python3.8/site-packages/openmm/openmm.py:2231\u001b[0m, in \u001b[0;36mContext.setPositions\u001b[0;34m(self, positions)\u001b[0m\n\u001b[1;32m   2227\u001b[0m \u001b[38;5;28;01mif\u001b[39;00m unit\u001b[38;5;241m.\u001b[39mis_quantity(positions):\n\u001b[1;32m   2228\u001b[0m     positions \u001b[38;5;241m=\u001b[39m positions\u001b[38;5;241m.\u001b[39mvalue_in_unit(unit\u001b[38;5;241m.\u001b[39mnanometer)\n\u001b[0;32m-> 2231\u001b[0m \u001b[38;5;28;01mreturn\u001b[39;00m \u001b[43m_openmm\u001b[49m\u001b[38;5;241;43m.\u001b[39;49m\u001b[43mContext_setPositions\u001b[49m\u001b[43m(\u001b[49m\u001b[38;5;28;43mself\u001b[39;49m\u001b[43m,\u001b[49m\u001b[43m \u001b[49m\u001b[43mpositions\u001b[49m\u001b[43m)\u001b[49m\n",
      "\u001b[0;31mOpenMMException\u001b[0m: Called setPositions() on a Context with the wrong number of positions"
     ]
    }
   ],
   "source": [
    "SOLVENT_KWARGS = {\n",
    "    \"nonbondedMethod\": app.NoCutoff,\n",
    "    \"constraints\": app.HBonds,\n",
    "    \"implicitSolvent\": app.HCT,\n",
    "    \"rigidWater\": True,\n",
    "}\n",
    "\n",
    "chignolin_psf = \"1uao_v2.psf\"\n",
    "optimized_positions = compare_energies(\n",
    "    chignolin_psf,\n",
    "    pdb_chignolin.positions,\n",
    "    [\"toppar/par_all36_prot.prm\", \"toppar/top_all36_prot.rtf\",\"toppar/toppar_water_ions.str\"], \n",
    "    system_kwargs=SOLVENT_KWARGS\n",
    ")"
   ]
  },
  {
   "cell_type": "code",
   "execution_count": 6,
   "id": "e70d146e-d171-44f4-9df5-c4f9026da10b",
   "metadata": {},
   "outputs": [
    {
     "data": {
      "application/vnd.jupyter.widget-view+json": {
       "model_id": "511837f0deab48e3aee2712ed037f04e",
       "version_major": 2,
       "version_minor": 0
      },
      "text/plain": [
       "NGLWidget()"
      ]
     },
     "metadata": {},
     "output_type": "display_data"
    }
   ],
   "source": [
    "pdb_chignolin.positions = optimized_positions\n",
    "pdb_chignolin.visualize()"
   ]
  },
  {
   "cell_type": "code",
   "execution_count": 46,
   "id": "7ca98d71-0c04-4e9a-aadf-78b58e2ffa48",
   "metadata": {},
   "outputs": [],
   "source": [
    "def generate_psf(pdb):\n",
    "    mol = Chem.rdmolfiles.MolFromPDBFile(pdb, removeHs=False)\n",
    "    mol = Chem.AddHs(mol)\n",
    "    Chem.rdDistGeom.EmbedMolecule(mol)\n",
    "    Chem.rdForceFieldHelpers.MMFFOptimizeMolecule(mol)\n",
    "    \n",
    "    intermediate_pdb = \"temp.pdb\"\n",
    "    Chem.rdmolfiles.MolToPDBFile(mol, intermediate_pdb) # PDB with explicit Hydrogens\n",
    "    return intermediate_pdb"
   ]
  },
  {
   "cell_type": "code",
   "execution_count": 48,
   "id": "c19b4a9e-5712-4c39-95be-4b6ade454fb2",
   "metadata": {},
   "outputs": [
    {
     "data": {
      "application/vnd.jupyter.widget-view+json": {
       "model_id": "b3838bc13e3542328339821d589cefa4",
       "version_major": 2,
       "version_minor": 0
      },
      "text/plain": [
       "NGLWidget()"
      ]
     },
     "metadata": {},
     "output_type": "display_data"
    }
   ],
   "source": [
    "chignolin_fn = generate_psf(\"1uao.pdb\")\n",
    "pdb_chignolin = pmd.load_file(pdb_fn)\n",
    "pdb_chignolin.visualize()"
   ]
  },
  {
   "cell_type": "code",
   "execution_count": null,
   "id": "a1075edc-2e2b-44d0-bdc6-f528f1b0da7f",
   "metadata": {},
   "outputs": [],
   "source": []
  }
 ],
 "metadata": {
  "kernelspec": {
   "display_name": "Python 3 (ipykernel)",
   "language": "python",
   "name": "python3"
  },
  "language_info": {
   "codemirror_mode": {
    "name": "ipython",
    "version": 3
   },
   "file_extension": ".py",
   "mimetype": "text/x-python",
   "name": "python",
   "nbconvert_exporter": "python",
   "pygments_lexer": "ipython3",
   "version": "3.8.13"
  }
 },
 "nbformat": 4,
 "nbformat_minor": 5
}
