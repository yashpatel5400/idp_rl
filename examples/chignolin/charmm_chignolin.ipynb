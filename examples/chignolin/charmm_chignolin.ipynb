{
 "cells": [
  {
   "cell_type": "code",
   "execution_count": 1,
   "id": "9c85bf50-77d2-41e4-9dce-96565971e8c5",
   "metadata": {},
   "outputs": [
    {
     "name": "stderr",
     "output_type": "stream",
     "text": [
      "Warning: importing 'simtk.openmm' is deprecated.  Import 'openmm' instead.\n"
     ]
    }
   ],
   "source": [
    "from rdkit import Chem\n",
    "from rdkit.Chem import AllChem\n",
    "\n",
    "import parmed as pmd\n",
    "import openmm\n",
    "import openmm.app as app\n",
    "import openmm.unit as u\n",
    "import numpy as np"
   ]
  },
  {
   "cell_type": "code",
   "execution_count": 2,
   "id": "52e9892c-4673-4902-ba2c-ad7ea4544700",
   "metadata": {},
   "outputs": [],
   "source": [
    "def compare_energies(psf_fn, positions, toppar_filenames, system_kwargs=None, units=u.kilojoules_per_mole):\n",
    "    openmm_toppar = app.CharmmParameterSet(*toppar_filenames)\n",
    "    openmm_psf = app.CharmmPsfFile(psf_fn)\n",
    "    openmm_system = openmm_psf.createSystem(openmm_toppar, **system_kwargs)\n",
    "\n",
    "    integrator = openmm.VerletIntegrator(1.0)\n",
    "    platform = openmm.Platform.getPlatformByName(\"CPU\")\n",
    "    simulation = app.Simulation(openmm_psf.topology, openmm_system, integrator, platform)\n",
    "    \n",
    "    simulation.context.setPositions(positions)\n",
    "\n",
    "    print(simulation.context.getState(getEnergy=True).getPotentialEnergy())\n",
    "    simulation.minimizeEnergy(maxIterations=500)\n",
    "    print(simulation.context.getState(getEnergy=True).getPotentialEnergy())\n",
    "    optimized_positions = simulation.context.getState(getPositions=True)\n",
    "    \n",
    "    return optimized_positions.getPositions()"
   ]
  },
  {
   "cell_type": "code",
   "execution_count": 3,
   "id": "ecd2b313-0275-4b18-9f36-7c6e64ea33e2",
   "metadata": {},
   "outputs": [
    {
     "data": {
      "application/vnd.jupyter.widget-view+json": {
       "model_id": "e4a928cd7b0e41a6b432d3f8961232ce",
       "version_major": 2,
       "version_minor": 0
      },
      "text/plain": []
     },
     "metadata": {},
     "output_type": "display_data"
    },
    {
     "data": {
      "application/vnd.jupyter.widget-view+json": {
       "model_id": "ccf21a525f6f443fac2fcd560aec679c",
       "version_major": 2,
       "version_minor": 0
      },
      "text/plain": [
       "NGLWidget()"
      ]
     },
     "metadata": {},
     "output_type": "display_data"
    }
   ],
   "source": [
    "pdb_chignolin = pmd.load_file(\"1uao.pdb\")\n",
    "pdb_chignolin.visualize()"
   ]
  },
  {
   "cell_type": "code",
   "execution_count": 4,
   "id": "42c1aa20-4867-4f7f-9594-83cededd7177",
   "metadata": {},
   "outputs": [
    {
     "data": {
      "application/vnd.jupyter.widget-view+json": {
       "model_id": "51468ea883b24bd0873b417a3a7d876f",
       "version_major": 2,
       "version_minor": 0
      },
      "text/plain": [
       "NGLWidget()"
      ]
     },
     "metadata": {},
     "output_type": "display_data"
    }
   ],
   "source": [
    "perturbed_locations = [x * np.random.uniform(0.9, 1.1) for x in pdb_chignolin.positions]\n",
    "mm_perturbed_locations = openmm.unit.quantity.Quantity(perturbed_locations)\n",
    "pdb_chignolin.positions = mm_perturbed_locations\n",
    "pdb_chignolin.visualize()"
   ]
  },
  {
   "cell_type": "code",
   "execution_count": 5,
   "id": "57dc9573-7b7c-447f-939b-c81c4bf82bb2",
   "metadata": {},
   "outputs": [
    {
     "name": "stdout",
     "output_type": "stream",
     "text": [
      "22556.14986003448 kJ/mol\n",
      "-1026.040988112954 kJ/mol\n"
     ]
    }
   ],
   "source": [
    "SOLVENT_KWARGS = {\n",
    "    \"nonbondedMethod\": app.NoCutoff,\n",
    "    \"constraints\": app.HBonds,\n",
    "    \"implicitSolvent\": app.HCT,\n",
    "    \"rigidWater\": True,\n",
    "}\n",
    "\n",
    "chignolin_psf = \"1uao.psf\"\n",
    "optimized_positions = compare_energies(\n",
    "    chignolin_psf,\n",
    "    pdb_chignolin.positions,\n",
    "    [\"toppar/par_all36_prot.prm\", \"toppar/top_all36_prot.rtf\",\"toppar/toppar_water_ions.str\"], \n",
    "    system_kwargs=SOLVENT_KWARGS\n",
    ")"
   ]
  },
  {
   "cell_type": "code",
   "execution_count": 6,
   "id": "e70d146e-d171-44f4-9df5-c4f9026da10b",
   "metadata": {},
   "outputs": [
    {
     "data": {
      "application/vnd.jupyter.widget-view+json": {
       "model_id": "511837f0deab48e3aee2712ed037f04e",
       "version_major": 2,
       "version_minor": 0
      },
      "text/plain": [
       "NGLWidget()"
      ]
     },
     "metadata": {},
     "output_type": "display_data"
    }
   ],
   "source": [
    "pdb_chignolin.positions = optimized_positions\n",
    "pdb_chignolin.visualize()"
   ]
  }
 ],
 "metadata": {
  "kernelspec": {
   "display_name": "Python 3 (ipykernel)",
   "language": "python",
   "name": "python3"
  },
  "language_info": {
   "codemirror_mode": {
    "name": "ipython",
    "version": 3
   },
   "file_extension": ".py",
   "mimetype": "text/x-python",
   "name": "python",
   "nbconvert_exporter": "python",
   "pygments_lexer": "ipython3",
   "version": "3.8.13"
  }
 },
 "nbformat": 4,
 "nbformat_minor": 5
}
